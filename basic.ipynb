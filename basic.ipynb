{
 "cells": [
  {
   "cell_type": "markdown",
   "metadata": {
    "collapsed": false
   },
   "source": [
    "Computation of GCD of polynomials"
   ]
  },
  {
   "cell_type": "code",
   "execution_count": 5,
   "metadata": {
    "collapsed": false
   },
   "outputs": [
    {
     "name": "stdout",
     "output_type": "stream",
     "text": [
      "Multivariate Polynomial Ring in x, y over Real Field with 53 bits of precision\n"
     ]
    }
   ],
   "source": [
    "R.<x,y> = PolynomialRing(RR, 'x,y', order='lex')\n",
    "print (R)"
   ]
  },
  {
   "cell_type": "code",
   "execution_count": 7,
   "metadata": {
    "collapsed": false
   },
   "outputs": [
    {
     "data": {
      "text/plain": [
       "1.00000000000000"
      ]
     },
     "execution_count": 7,
     "metadata": {
     },
     "output_type": "execute_result"
    }
   ],
   "source": [
    "f = x^2+2*y^2-3\n",
    "g = x^2+x*y+y^2-3\n",
    "f.gcd(g)"
   ]
  },
  {
   "cell_type": "markdown",
   "metadata": {
    "collapsed": false
   },
   "source": [
    "Computation of Grobner basis"
   ]
  },
  {
   "cell_type": "code",
   "execution_count": 1,
   "metadata": {
    "collapsed": false
   },
   "outputs": [
    {
     "name": "stdout",
     "output_type": "stream",
     "text": [
      "Multivariate Polynomial Ring in x, y, z over Real Field with 53 bits of precision\n"
     ]
    }
   ],
   "source": [
    "R.<x,y,z> = PolynomialRing(RR, 'x,y,z', order='lex')\n",
    "print (R)"
   ]
  },
  {
   "cell_type": "code",
   "execution_count": 2,
   "metadata": {
    "collapsed": false
   },
   "outputs": [
    {
     "name": "stdout",
     "output_type": "stream",
     "text": [
      "[x - 0.0625000000000000*y^4 - 0.0625000000000000*y^2, y^5 + y^3 - 64.0000000000000]\n"
     ]
    }
   ],
   "source": [
    "I = ideal(x*y-4,x^3-y^2-1)\n",
    "B = I.groebner_basis()\n",
    "print (B)"
   ]
  },
  {
   "cell_type": "code",
   "execution_count": 1,
   "metadata": {
    "collapsed": false
   },
   "outputs": [
    {
     "name": "stdout",
     "output_type": "stream",
     "text": [
      "Multivariate Polynomial Ring in u, v, x, y, z over Real Field with 53 bits of precision\n"
     ]
    }
   ],
   "source": [
    "R.<u,v,x,y,z> = PolynomialRing(RR, 'u,v,x,y,z', order='lex')\n",
    "print (R)"
   ]
  },
  {
   "cell_type": "code",
   "execution_count": 2,
   "metadata": {
    "collapsed": false
   },
   "outputs": [
    {
     "name": "stdout",
     "output_type": "stream",
     "text": [
      "[u - z, v^2 - y*z, v*x - z^2, v*z^2 - x*y*z, x^2*y*z - z^4]\n"
     ]
    }
   ],
   "source": [
    "I = ideal(v*x-u^2, u*y-v^2, z-u)\n",
    "B = I.groebner_basis()\n",
    "print (B)"
   ]
  },
  {
   "cell_type": "code",
   "execution_count": 1,
   "metadata": {
    "collapsed": false
   },
   "outputs": [
    {
     "name": "stdout",
     "output_type": "stream",
     "text": [
      "Multivariate Polynomial Ring in x, y over Real Field with 53 bits of precision\n"
     ]
    }
   ],
   "source": [
    "R.<x,y> = PolynomialRing(RR, 'x,y', order='lex')\n",
    "print (R)"
   ]
  },
  {
   "cell_type": "code",
   "execution_count": 2,
   "metadata": {
    "collapsed": false
   },
   "outputs": [
    {
     "name": "stdout",
     "output_type": "stream",
     "text": [
      "[x^2 + 2.00000000000000*y^2 - 3.00000000000000, x*y - y^2, y^3 - y]\n"
     ]
    }
   ],
   "source": [
    "I = ideal(x^2+2*y^2-3, x^2+x*y+y^2-3)\n",
    "B = I.groebner_basis()\n",
    "print (B)"
   ]
  },
  {
   "cell_type": "code",
   "execution_count": 3,
   "metadata": {
    "collapsed": false
   },
   "outputs": [
    {
     "name": "stdout",
     "output_type": "stream",
     "text": [
      "Multivariate Polynomial Ring in y, x over Real Field with 53 bits of precision\n"
     ]
    }
   ],
   "source": [
    "R.<y,x> = PolynomialRing(RR, 'y,x', order='lex')\n",
    "print (R)"
   ]
  },
  {
   "cell_type": "code",
   "execution_count": 4,
   "metadata": {
    "collapsed": false
   },
   "outputs": [
    {
     "name": "stdout",
     "output_type": "stream",
     "text": [
      "[y + 0.500000000000000*x^3 - 1.50000000000000*x, x^4 - 4.00000000000000*x^2 + 3.00000000000000]\n"
     ]
    }
   ],
   "source": [
    "I = ideal(x^2+2*y^2-3, x^2+x*y+y^2-3)\n",
    "B = I.groebner_basis()\n",
    "print (B)"
   ]
  },
  {
   "cell_type": "code",
   "execution_count": 3,
   "metadata": {
    "collapsed": false
   },
   "outputs": [
    {
     "name": "stdout",
     "output_type": "stream",
     "text": [
      "Multivariate Polynomial Ring in x, y over Rational Field\n"
     ]
    }
   ],
   "source": [
    "R.<x,y> = PolynomialRing(QQ, 'x,y', order='lex')\n",
    "print (R)"
   ]
  },
  {
   "cell_type": "code",
   "execution_count": 4,
   "metadata": {
    "collapsed": false
   },
   "outputs": [
    {
     "name": "stdout",
     "output_type": "stream",
     "text": [
      "[x^2 + 2*y^2 - 2, x*y - y^2, y^3 - 2/3*y]\n"
     ]
    }
   ],
   "source": [
    "I = ideal(x^2+2*y^2-2, x^2+x*y+y^2-2)\n",
    "B = I.groebner_basis()\n",
    "print (B)"
   ]
  },
  {
   "cell_type": "code",
   "execution_count": 0,
   "metadata": {
    "collapsed": false
   },
   "outputs": [
   ],
   "source": [
   ]
  },
  {
   "cell_type": "code",
   "execution_count": 0,
   "metadata": {
    "collapsed": false
   },
   "outputs": [
   ],
   "source": [
   ]
  },
  {
   "cell_type": "code",
   "execution_count": 0,
   "metadata": {
    "collapsed": false
   },
   "outputs": [
   ],
   "source": [
   ]
  }
 ],
 "metadata": {
  "kernelspec": {
   "display_name": "SageMath 9.2",
   "language": "sagemath",
   "metadata": {
    "cocalc": {
     "description": "Open-source mathematical software system",
     "priority": 10,
     "url": "https://www.sagemath.org/"
    }
   },
   "name": "sage-9.2",
   "resource_dir": "/ext/jupyter/kernels/sage-9.2"
  },
  "language_info": {
   "codemirror_mode": {
    "name": "ipython",
    "version": 3
   },
   "file_extension": ".py",
   "mimetype": "text/x-python",
   "name": "python",
   "nbconvert_exporter": "python",
   "pygments_lexer": "ipython3",
   "version": "3.8.5"
  }
 },
 "nbformat": 4,
 "nbformat_minor": 4
}